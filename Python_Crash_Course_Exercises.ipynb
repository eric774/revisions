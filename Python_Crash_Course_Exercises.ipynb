{
  "cells": [
    {
      "cell_type": "markdown",
      "metadata": {
        "id": "view-in-github",
        "colab_type": "text"
      },
      "source": [
        "<a href=\"https://colab.research.google.com/github/eric774/revisions/blob/main/Python_Crash_Course_Exercises.ipynb\" target=\"_parent\"><img src=\"https://colab.research.google.com/assets/colab-badge.svg\" alt=\"Open In Colab\"/></a>"
      ]
    },
    {
      "cell_type": "markdown",
      "metadata": {
        "application/vnd.databricks.v1+cell": {
          "cellMetadata": {},
          "inputWidgets": {},
          "nuid": "b627459a-e704-41ff-996a-79d0dde7faed",
          "showTitle": false,
          "title": ""
        },
        "id": "_S2KbD8GyGN1"
      },
      "source": [
        "## Exercises\n",
        "\n",
        "Answer the questions or complete the tasks outlined in bold below, use the specific method described if applicable."
      ]
    },
    {
      "cell_type": "markdown",
      "metadata": {
        "application/vnd.databricks.v1+cell": {
          "cellMetadata": {},
          "inputWidgets": {},
          "nuid": "50b4ed4e-a09e-43c7-80da-e7f31ba92021",
          "showTitle": false,
          "title": ""
        },
        "id": "lhcQxuZXyGN1"
      },
      "source": [
        "** What is 7 to the power of 4?**"
      ]
    },
    {
      "cell_type": "code",
      "execution_count": null,
      "metadata": {
        "application/vnd.databricks.v1+cell": {
          "cellMetadata": {},
          "inputWidgets": {},
          "nuid": "030c0439-557f-449c-af95-70b3dfb81724",
          "showTitle": false,
          "title": ""
        },
        "id": "VrjoaK3NyGN1",
        "outputId": "7bce83d5-e988-4e03-aa21-3e266bab3aee"
      },
      "outputs": [
        {
          "output_type": "stream",
          "name": "stdout",
          "text": [
            "Out[1]: 2401"
          ]
        }
      ],
      "source": [
        "7**4"
      ]
    },
    {
      "cell_type": "markdown",
      "metadata": {
        "application/vnd.databricks.v1+cell": {
          "cellMetadata": {},
          "inputWidgets": {},
          "nuid": "cd89c256-f69a-4630-a9c1-3e1cd126d49a",
          "showTitle": false,
          "title": ""
        },
        "id": "Raqe3Gj_yGN2"
      },
      "source": [
        "** Split this string:**\n",
        "\n",
        "    s = \"Hi there Sam!\"\n",
        "    \n",
        "**into a list. **"
      ]
    },
    {
      "cell_type": "code",
      "execution_count": null,
      "metadata": {
        "application/vnd.databricks.v1+cell": {
          "cellMetadata": {},
          "inputWidgets": {},
          "nuid": "73cd3443-e07c-4fba-8dfb-300369c96b5f",
          "showTitle": false,
          "title": ""
        },
        "collapsed": true,
        "id": "pJhj4BusyGN3",
        "outputId": "04a24787-0f96-4408-ad69-745b21e477b6"
      },
      "outputs": [
        {
          "output_type": "stream",
          "name": "stdout",
          "text": [
            "Out[2]: ['Hi', 'there', 'Sam!']"
          ]
        }
      ],
      "source": [
        "s = \"Hi there Sam!\"\n",
        "list(s.split())"
      ]
    },
    {
      "cell_type": "code",
      "execution_count": null,
      "metadata": {
        "application/vnd.databricks.v1+cell": {
          "cellMetadata": {},
          "inputWidgets": {},
          "nuid": "63b28b2a-da13-4466-bd32-6a943c3befd6",
          "showTitle": false,
          "title": ""
        },
        "id": "EV6PW7QyyGN3",
        "outputId": "38e6b26e-28e9-479d-f756-86ce8f722bd5"
      },
      "outputs": [
        {
          "output_type": "execute_result",
          "data": {
            "text/plain": [
              "['Hi', 'there', 'dad!']"
            ]
          },
          "execution_count": 3,
          "metadata": {}
        }
      ],
      "source": []
    },
    {
      "cell_type": "markdown",
      "metadata": {
        "application/vnd.databricks.v1+cell": {
          "cellMetadata": {},
          "inputWidgets": {},
          "nuid": "feab7501-2366-4ca9-975b-ffd79898c4da",
          "showTitle": false,
          "title": ""
        },
        "id": "3rMMxeGnyGN3"
      },
      "source": [
        "** Given the variables:**\n",
        "\n",
        "    planet = \"Earth\"\n",
        "    diameter = 12742\n",
        "\n",
        "** Use .format() to print the following string: **\n",
        "\n",
        "    The diameter of Earth is 12742 kilometers."
      ]
    },
    {
      "cell_type": "code",
      "execution_count": null,
      "metadata": {
        "application/vnd.databricks.v1+cell": {
          "cellMetadata": {},
          "inputWidgets": {},
          "nuid": "692c361c-c417-4596-aa0f-1c59b7debd03",
          "showTitle": false,
          "title": ""
        },
        "collapsed": true,
        "id": "fcNsSfsayGN3",
        "outputId": "a5e88903-f5f1-4f20-924c-bee12aa69f9a"
      },
      "outputs": [
        {
          "output_type": "stream",
          "name": "stdout",
          "text": [
            "The diameter of Earth is 12742 kilometers.\n"
          ]
        }
      ],
      "source": [
        "planet = \"Earth\"\n",
        "diameter = 12742\n",
        "print(\"The diameter of {} is {} kilometers.\".format(planet,diameter))"
      ]
    },
    {
      "cell_type": "code",
      "execution_count": null,
      "metadata": {
        "application/vnd.databricks.v1+cell": {
          "cellMetadata": {},
          "inputWidgets": {},
          "nuid": "b6ae4a91-9455-43ae-9741-ae6ffc69b8c6",
          "showTitle": false,
          "title": ""
        },
        "id": "RwmNiip5yGN4",
        "outputId": "7cb4b816-b7cc-4df5-fb07-2c96fe363b3c"
      },
      "outputs": [
        {
          "output_type": "stream",
          "name": "stdout",
          "text": [
            "The diameter of Earth is 12742 kilometers.\n"
          ]
        }
      ],
      "source": []
    },
    {
      "cell_type": "markdown",
      "metadata": {
        "application/vnd.databricks.v1+cell": {
          "cellMetadata": {},
          "inputWidgets": {},
          "nuid": "1e0a14f9-04c9-49b7-9675-dc6ace61b9c6",
          "showTitle": false,
          "title": ""
        },
        "id": "sgKwyKysyGN4"
      },
      "source": [
        "** Given this nested list, use indexing to grab the word \"hello\" **"
      ]
    },
    {
      "cell_type": "code",
      "execution_count": null,
      "metadata": {
        "application/vnd.databricks.v1+cell": {
          "cellMetadata": {},
          "inputWidgets": {},
          "nuid": "dc018e50-abdd-4402-886d-49ea46091eef",
          "showTitle": false,
          "title": ""
        },
        "collapsed": true,
        "id": "lbJdpLyAyGN4"
      },
      "outputs": [],
      "source": [
        "lst = [1,2,[3,4],[5,[100,200,['hello']],23,11],1,7]"
      ]
    },
    {
      "cell_type": "code",
      "execution_count": null,
      "metadata": {
        "application/vnd.databricks.v1+cell": {
          "cellMetadata": {},
          "inputWidgets": {},
          "nuid": "9c45cd01-ef34-4348-bbf8-2d7fa24ef102",
          "showTitle": false,
          "title": ""
        },
        "id": "esLd-HClyGN4",
        "outputId": "cb08f323-2b2e-4bce-e2b2-976d49b3f246"
      },
      "outputs": [
        {
          "output_type": "stream",
          "name": "stdout",
          "text": [
            "Out[7]: 'hello'"
          ]
        }
      ],
      "source": [
        "lst[3][1][2][0]"
      ]
    },
    {
      "cell_type": "markdown",
      "metadata": {
        "application/vnd.databricks.v1+cell": {
          "cellMetadata": {},
          "inputWidgets": {},
          "nuid": "7b5c84b5-fda9-464e-bcca-8e579477b3f2",
          "showTitle": false,
          "title": ""
        },
        "id": "UNt8BgNxyGN4"
      },
      "source": [
        "** Given this nested dictionary grab the word \"hello\". Be prepared, this will be annoying/tricky **"
      ]
    },
    {
      "cell_type": "code",
      "execution_count": null,
      "metadata": {
        "application/vnd.databricks.v1+cell": {
          "cellMetadata": {},
          "inputWidgets": {},
          "nuid": "b214935b-705b-4764-aeec-49d87925d2eb",
          "showTitle": false,
          "title": ""
        },
        "id": "jNDrI-4XyGN4"
      },
      "outputs": [],
      "source": [
        "d = {'k1':[1,2,3,{'tricky':['oh','man','inception',{'target':[1,2,3,'hello']}]}]}"
      ]
    },
    {
      "cell_type": "code",
      "execution_count": null,
      "metadata": {
        "application/vnd.databricks.v1+cell": {
          "cellMetadata": {},
          "inputWidgets": {},
          "nuid": "47a4e42a-f9ed-4996-a3a2-9a8c8b85095a",
          "showTitle": false,
          "title": ""
        },
        "id": "xv7EUa1qyGN5",
        "outputId": "c406e82a-9074-4e34-ce3e-08b51ed145a8"
      },
      "outputs": [
        {
          "output_type": "stream",
          "name": "stdout",
          "text": [
            "Out[15]: 'hello'"
          ]
        }
      ],
      "source": [
        "d['k1'][3]['tricky'][3]['target'][3]"
      ]
    },
    {
      "cell_type": "markdown",
      "metadata": {
        "application/vnd.databricks.v1+cell": {
          "cellMetadata": {},
          "inputWidgets": {},
          "nuid": "672916e6-5801-4b67-aeb0-11faeaf5cefb",
          "showTitle": false,
          "title": ""
        },
        "id": "MwZ1RyeWyGN5"
      },
      "source": [
        "** What is the main difference between a tuple and a list? **"
      ]
    },
    {
      "cell_type": "code",
      "execution_count": null,
      "metadata": {
        "application/vnd.databricks.v1+cell": {
          "cellMetadata": {},
          "inputWidgets": {},
          "nuid": "00fd3bb8-df03-48d1-b1d2-67eea99a22bf",
          "showTitle": false,
          "title": ""
        },
        "collapsed": true,
        "id": "E0bIafw0yGN5"
      },
      "outputs": [],
      "source": [
        "# Tuple is immutable"
      ]
    },
    {
      "cell_type": "markdown",
      "metadata": {
        "application/vnd.databricks.v1+cell": {
          "cellMetadata": {},
          "inputWidgets": {},
          "nuid": "03407f1a-3847-4cdf-8cb1-aad3443ac7d4",
          "showTitle": false,
          "title": ""
        },
        "id": "4MFs9GfGyGN5"
      },
      "source": [
        "** Create a function that grabs the email website domain from a string in the form: **\n",
        "\n",
        "    user@domain.com\n",
        "    \n",
        "**So for example, passing \"user@domain.com\" would return: domain.com**"
      ]
    },
    {
      "cell_type": "code",
      "execution_count": null,
      "metadata": {
        "application/vnd.databricks.v1+cell": {
          "cellMetadata": {},
          "inputWidgets": {},
          "nuid": "4074f0d5-7d1b-4dbc-a74c-47c8ed519dcc",
          "showTitle": false,
          "title": ""
        },
        "collapsed": true,
        "id": "cIZCkO_6yGN5"
      },
      "outputs": [],
      "source": [
        "def domainGet(x):\n",
        "    return x.split('@')[1]"
      ]
    },
    {
      "cell_type": "code",
      "execution_count": null,
      "metadata": {
        "application/vnd.databricks.v1+cell": {
          "cellMetadata": {},
          "inputWidgets": {},
          "nuid": "b11dd38b-3265-48d1-9fa0-ed6970c3d3c8",
          "showTitle": false,
          "title": ""
        },
        "id": "OAod2k94yGN5",
        "outputId": "fb787e2e-ba34-46c3-d02f-450222b2e9ae"
      },
      "outputs": [
        {
          "output_type": "stream",
          "name": "stdout",
          "text": [
            "Out[17]: 'domain.com'"
          ]
        }
      ],
      "source": [
        "domainGet('user@domain.com')"
      ]
    },
    {
      "cell_type": "markdown",
      "metadata": {
        "application/vnd.databricks.v1+cell": {
          "cellMetadata": {},
          "inputWidgets": {},
          "nuid": "0e951b93-bc59-4702-9e65-55ccd797bd8e",
          "showTitle": false,
          "title": ""
        },
        "id": "ZDv2F-1fyGN5"
      },
      "source": [
        "** Create a basic function that returns True if the word 'dog' is contained in the input string. Don't worry about edge cases like a punctuation being attached to the word dog, but do account for capitalization. **"
      ]
    },
    {
      "cell_type": "code",
      "execution_count": null,
      "metadata": {
        "application/vnd.databricks.v1+cell": {
          "cellMetadata": {},
          "inputWidgets": {},
          "nuid": "3662e2e1-33cd-4c01-984c-9ac965ece158",
          "showTitle": false,
          "title": ""
        },
        "collapsed": true,
        "id": "GnJzMemPyGN6"
      },
      "outputs": [],
      "source": [
        "def findDog(x):\n",
        "    if 'dog' in x:\n",
        "        return True"
      ]
    },
    {
      "cell_type": "code",
      "execution_count": null,
      "metadata": {
        "application/vnd.databricks.v1+cell": {
          "cellMetadata": {},
          "inputWidgets": {},
          "nuid": "2e8b7817-25bc-414d-bfe9-8285c6ffe1ae",
          "showTitle": false,
          "title": ""
        },
        "id": "kNyfkkCHyGN6",
        "outputId": "935bf26d-d287-4911-9afc-24b8cabef8c9"
      },
      "outputs": [
        {
          "output_type": "stream",
          "name": "stdout",
          "text": [
            "Out[19]: True"
          ]
        }
      ],
      "source": [
        "findDog('Is there a dog here?')"
      ]
    },
    {
      "cell_type": "markdown",
      "metadata": {
        "application/vnd.databricks.v1+cell": {
          "cellMetadata": {},
          "inputWidgets": {},
          "nuid": "d147b475-460a-4340-b518-ddc50232f6f4",
          "showTitle": false,
          "title": ""
        },
        "id": "ivgDTza_yGN6"
      },
      "source": [
        "** Create a function that counts the number of times the word \"dog\" occurs in a string. Again ignore edge cases. **"
      ]
    },
    {
      "cell_type": "code",
      "execution_count": null,
      "metadata": {
        "application/vnd.databricks.v1+cell": {
          "cellMetadata": {},
          "inputWidgets": {},
          "nuid": "e596c1db-830f-46c6-90b4-50cdcf331380",
          "showTitle": false,
          "title": ""
        },
        "id": "txzui2QiyGN6"
      },
      "outputs": [],
      "source": [
        "def countDog(x):\n",
        "    count = 0\n",
        "    for i in x.split():\n",
        "        if i == 'dog':\n",
        "            count = count +1\n",
        "    return count"
      ]
    },
    {
      "cell_type": "code",
      "execution_count": null,
      "metadata": {
        "application/vnd.databricks.v1+cell": {
          "cellMetadata": {},
          "inputWidgets": {},
          "nuid": "c4d9c55a-2f4c-47ce-85d8-9080b2e99323",
          "showTitle": false,
          "title": ""
        },
        "id": "5Fx6FSMNyGN6",
        "outputId": "577cfe92-7efd-407f-acff-12be1cf61a31"
      },
      "outputs": [
        {
          "output_type": "stream",
          "name": "stdout",
          "text": [
            "Out[23]: 2"
          ]
        }
      ],
      "source": [
        "countDog('This dog runs faster than the other dog dude!')"
      ]
    },
    {
      "cell_type": "markdown",
      "metadata": {
        "application/vnd.databricks.v1+cell": {
          "cellMetadata": {},
          "inputWidgets": {},
          "nuid": "e5fca4f1-e6d1-441d-b307-0162e0fdf863",
          "showTitle": false,
          "title": ""
        },
        "id": "3I-m8cAyyGN6"
      },
      "source": [
        "** Use lambda expressions and the filter() function to filter out words from a list that don't start with the letter 's'. For example:**\n",
        "\n",
        "    seq = ['soup','dog','salad','cat','great']\n",
        "\n",
        "**should be filtered down to:**\n",
        "\n",
        "    ['soup','salad']"
      ]
    },
    {
      "cell_type": "code",
      "execution_count": null,
      "metadata": {
        "application/vnd.databricks.v1+cell": {
          "cellMetadata": {},
          "inputWidgets": {},
          "nuid": "59090af6-fb6b-4f9f-b6c4-c3ea9a204ec6",
          "showTitle": false,
          "title": ""
        },
        "collapsed": true,
        "id": "g3ZHXmomyGN6"
      },
      "outputs": [],
      "source": [
        "seq = ['soup','dog','salad','cat','great']"
      ]
    },
    {
      "cell_type": "code",
      "execution_count": null,
      "metadata": {
        "application/vnd.databricks.v1+cell": {
          "cellMetadata": {},
          "inputWidgets": {},
          "nuid": "beadfb0f-82d0-4f0d-a62d-700c9ba9f7f4",
          "showTitle": false,
          "title": ""
        },
        "id": "7zTj9MZoyGN6",
        "outputId": "d2652d1e-5b47-4678-ea93-958eb8ab0239"
      },
      "outputs": [
        {
          "output_type": "stream",
          "name": "stdout",
          "text": [
            "Out[36]: ['soup', 'salad']"
          ]
        }
      ],
      "source": [
        "list(filter(lambda seq: seq[0]=='s', seq))\n"
      ]
    },
    {
      "cell_type": "markdown",
      "metadata": {
        "application/vnd.databricks.v1+cell": {
          "cellMetadata": {},
          "inputWidgets": {},
          "nuid": "c1e7512d-2dfa-4ced-97a3-8baef7eb22dc",
          "showTitle": false,
          "title": ""
        },
        "id": "04TZWhXIyGN7"
      },
      "source": [
        "### Final Problem\n",
        "**You are driving a little too fast, and a police officer stops you. Write a function\n",
        "  to return one of 3 possible results: \"No ticket\", \"Small ticket\", or \"Big Ticket\".\n",
        "  If your speed is 60 or less, the result is \"No Ticket\". If speed is between 61\n",
        "  and 80 inclusive, the result is \"Small Ticket\". If speed is 81 or more, the result is \"Big    Ticket\". Unless it is your birthday (encoded as a boolean value in the parameters of the function) -- on your birthday, your speed can be 5 higher in all\n",
        "  cases. **"
      ]
    },
    {
      "cell_type": "code",
      "execution_count": null,
      "metadata": {
        "application/vnd.databricks.v1+cell": {
          "cellMetadata": {},
          "inputWidgets": {},
          "nuid": "1f9bcc62-50b9-4764-a8a3-f1ed1e7dfe30",
          "showTitle": false,
          "title": ""
        },
        "collapsed": true,
        "id": "vwIcZtjIyGN7"
      },
      "outputs": [],
      "source": [
        "def caught_speeding(speed, is_birthday):\n",
        "    if is_birthday == True:\n",
        "        speed = speed - 5\n",
        "    if speed <= 60:\n",
        "        return \"No Ticket\"\n",
        "    elif speed > 60 and speed < 81:\n",
        "        return \"Small Ticket\"\n",
        "    elif speed > 80:\n",
        "        return \"Big Ticket\"\n",
        "\n",
        "    pass"
      ]
    },
    {
      "cell_type": "code",
      "execution_count": null,
      "metadata": {
        "application/vnd.databricks.v1+cell": {
          "cellMetadata": {},
          "inputWidgets": {},
          "nuid": "25aa7ee9-d6ad-4cf2-9ce6-91cfc713b344",
          "showTitle": false,
          "title": ""
        },
        "id": "KMSY4XeGyGN7",
        "outputId": "ad881b4b-80be-471e-a520-16518660bbe4"
      },
      "outputs": [
        {
          "output_type": "stream",
          "name": "stdout",
          "text": [
            "Out[31]: 'Small Ticket'"
          ]
        }
      ],
      "source": [
        "caught_speeding(81,True)"
      ]
    },
    {
      "cell_type": "code",
      "execution_count": null,
      "metadata": {
        "application/vnd.databricks.v1+cell": {
          "cellMetadata": {},
          "inputWidgets": {},
          "nuid": "ed93f726-aca2-4327-9b92-879875daba54",
          "showTitle": false,
          "title": ""
        },
        "id": "c4Apb0mdyGN7",
        "outputId": "4277fe82-2693-4388-cb31-6ac25a993f3f"
      },
      "outputs": [
        {
          "output_type": "stream",
          "name": "stdout",
          "text": [
            "Out[32]: 'Big Ticket'"
          ]
        }
      ],
      "source": [
        "caught_speeding(81,False)"
      ]
    },
    {
      "cell_type": "markdown",
      "metadata": {
        "application/vnd.databricks.v1+cell": {
          "cellMetadata": {},
          "inputWidgets": {},
          "nuid": "838a8198-a679-4fbe-8fbd-10907f188d9d",
          "showTitle": false,
          "title": ""
        },
        "id": "N5upjHUiyGN7"
      },
      "source": [
        "# Great job!"
      ]
    }
  ],
  "metadata": {
    "application/vnd.databricks.v1+notebook": {
      "dashboards": [],
      "language": "python",
      "notebookMetadata": {
        "pythonIndentUnit": 4
      },
      "notebookName": "02-Python Crash Course Exercises",
      "widgets": {}
    },
    "kernelspec": {
      "display_name": "Python 3",
      "language": "python",
      "name": "python3"
    },
    "language_info": {
      "codemirror_mode": {
        "name": "ipython",
        "version": 3
      },
      "file_extension": ".py",
      "mimetype": "text/x-python",
      "name": "python",
      "nbconvert_exporter": "python",
      "pygments_lexer": "ipython3",
      "version": "3.6.2"
    },
    "colab": {
      "provenance": [],
      "include_colab_link": true
    }
  },
  "nbformat": 4,
  "nbformat_minor": 0
}